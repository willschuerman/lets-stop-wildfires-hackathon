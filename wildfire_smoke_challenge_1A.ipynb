{
  "nbformat": 4,
  "nbformat_minor": 0,
  "metadata": {
    "colab": {
      "name": "wildfire_smoke_challenge_1A.ipynb",
      "provenance": [],
      "collapsed_sections": [],
      "authorship_tag": "ABX9TyNUiZUdgzAsT1VzVwMSQZrC",
      "include_colab_link": true
    },
    "kernelspec": {
      "name": "python3",
      "display_name": "Python 3"
    }
  },
  "cells": [
    {
      "cell_type": "markdown",
      "metadata": {
        "id": "view-in-github",
        "colab_type": "text"
      },
      "source": [
        "<a href=\"https://colab.research.google.com/github/willschuerman/lets-stop-wildfires-hackathon/blob/will/wildfire_smoke_challenge_1A.ipynb\" target=\"_parent\"><img src=\"https://colab.research.google.com/assets/colab-badge.svg\" alt=\"Open In Colab\"/></a>"
      ]
    },
    {
      "cell_type": "code",
      "metadata": {
        "id": "LqDxppaoB-NQ",
        "colab_type": "code",
        "colab": {
          "base_uri": "https://localhost:8080/",
          "height": 511
        },
        "outputId": "0e35c3e4-d1c8-44d7-eb02-8a26f99e60fe"
      },
      "source": [
        "%reload_ext autoreload\n",
        "%autoreload 2\n",
        "%matplotlib inline\n"
      ],
      "execution_count": 15,
      "outputs": [
        {
          "output_type": "error",
          "ename": "ModuleNotFoundError",
          "evalue": "ignored",
          "traceback": [
            "\u001b[0;31m---------------------------------------------------------------------------\u001b[0m",
            "\u001b[0;31mModuleNotFoundError\u001b[0m                       Traceback (most recent call last)",
            "\u001b[0;32m<ipython-input-15-0fb4e92abdea>\u001b[0m in \u001b[0;36m<module>\u001b[0;34m()\u001b[0m\n\u001b[1;32m      2\u001b[0m \u001b[0mget_ipython\u001b[0m\u001b[0;34m(\u001b[0m\u001b[0;34m)\u001b[0m\u001b[0;34m.\u001b[0m\u001b[0mmagic\u001b[0m\u001b[0;34m(\u001b[0m\u001b[0;34m'autoreload 2'\u001b[0m\u001b[0;34m)\u001b[0m\u001b[0;34m\u001b[0m\u001b[0;34m\u001b[0m\u001b[0m\n\u001b[1;32m      3\u001b[0m \u001b[0mget_ipython\u001b[0m\u001b[0;34m(\u001b[0m\u001b[0;34m)\u001b[0m\u001b[0;34m.\u001b[0m\u001b[0mmagic\u001b[0m\u001b[0;34m(\u001b[0m\u001b[0;34m'matplotlib inline'\u001b[0m\u001b[0;34m)\u001b[0m\u001b[0;34m\u001b[0m\u001b[0;34m\u001b[0m\u001b[0m\n\u001b[0;32m----> 4\u001b[0;31m \u001b[0mget_ipython\u001b[0m\u001b[0;34m(\u001b[0m\u001b[0;34m)\u001b[0m\u001b[0;34m.\u001b[0m\u001b[0mmagic\u001b[0m\u001b[0;34m(\u001b[0m\u001b[0;34m'load_ext autotime'\u001b[0m\u001b[0;34m)\u001b[0m\u001b[0;34m\u001b[0m\u001b[0;34m\u001b[0m\u001b[0m\n\u001b[0m",
            "\u001b[0;32m/usr/local/lib/python3.6/dist-packages/IPython/core/interactiveshell.py\u001b[0m in \u001b[0;36mmagic\u001b[0;34m(self, arg_s)\u001b[0m\n\u001b[1;32m   2158\u001b[0m         \u001b[0mmagic_name\u001b[0m\u001b[0;34m,\u001b[0m \u001b[0m_\u001b[0m\u001b[0;34m,\u001b[0m \u001b[0mmagic_arg_s\u001b[0m \u001b[0;34m=\u001b[0m \u001b[0marg_s\u001b[0m\u001b[0;34m.\u001b[0m\u001b[0mpartition\u001b[0m\u001b[0;34m(\u001b[0m\u001b[0;34m' '\u001b[0m\u001b[0;34m)\u001b[0m\u001b[0;34m\u001b[0m\u001b[0;34m\u001b[0m\u001b[0m\n\u001b[1;32m   2159\u001b[0m         \u001b[0mmagic_name\u001b[0m \u001b[0;34m=\u001b[0m \u001b[0mmagic_name\u001b[0m\u001b[0;34m.\u001b[0m\u001b[0mlstrip\u001b[0m\u001b[0;34m(\u001b[0m\u001b[0mprefilter\u001b[0m\u001b[0;34m.\u001b[0m\u001b[0mESC_MAGIC\u001b[0m\u001b[0;34m)\u001b[0m\u001b[0;34m\u001b[0m\u001b[0;34m\u001b[0m\u001b[0m\n\u001b[0;32m-> 2160\u001b[0;31m         \u001b[0;32mreturn\u001b[0m \u001b[0mself\u001b[0m\u001b[0;34m.\u001b[0m\u001b[0mrun_line_magic\u001b[0m\u001b[0;34m(\u001b[0m\u001b[0mmagic_name\u001b[0m\u001b[0;34m,\u001b[0m \u001b[0mmagic_arg_s\u001b[0m\u001b[0;34m)\u001b[0m\u001b[0;34m\u001b[0m\u001b[0;34m\u001b[0m\u001b[0m\n\u001b[0m\u001b[1;32m   2161\u001b[0m \u001b[0;34m\u001b[0m\u001b[0m\n\u001b[1;32m   2162\u001b[0m     \u001b[0;31m#-------------------------------------------------------------------------\u001b[0m\u001b[0;34m\u001b[0m\u001b[0;34m\u001b[0m\u001b[0;34m\u001b[0m\u001b[0m\n",
            "\u001b[0;32m/usr/local/lib/python3.6/dist-packages/IPython/core/interactiveshell.py\u001b[0m in \u001b[0;36mrun_line_magic\u001b[0;34m(self, magic_name, line)\u001b[0m\n\u001b[1;32m   2079\u001b[0m                 \u001b[0mkwargs\u001b[0m\u001b[0;34m[\u001b[0m\u001b[0;34m'local_ns'\u001b[0m\u001b[0;34m]\u001b[0m \u001b[0;34m=\u001b[0m \u001b[0msys\u001b[0m\u001b[0;34m.\u001b[0m\u001b[0m_getframe\u001b[0m\u001b[0;34m(\u001b[0m\u001b[0mstack_depth\u001b[0m\u001b[0;34m)\u001b[0m\u001b[0;34m.\u001b[0m\u001b[0mf_locals\u001b[0m\u001b[0;34m\u001b[0m\u001b[0;34m\u001b[0m\u001b[0m\n\u001b[1;32m   2080\u001b[0m             \u001b[0;32mwith\u001b[0m \u001b[0mself\u001b[0m\u001b[0;34m.\u001b[0m\u001b[0mbuiltin_trap\u001b[0m\u001b[0;34m:\u001b[0m\u001b[0;34m\u001b[0m\u001b[0;34m\u001b[0m\u001b[0m\n\u001b[0;32m-> 2081\u001b[0;31m                 \u001b[0mresult\u001b[0m \u001b[0;34m=\u001b[0m \u001b[0mfn\u001b[0m\u001b[0;34m(\u001b[0m\u001b[0;34m*\u001b[0m\u001b[0margs\u001b[0m\u001b[0;34m,\u001b[0m\u001b[0;34m**\u001b[0m\u001b[0mkwargs\u001b[0m\u001b[0;34m)\u001b[0m\u001b[0;34m\u001b[0m\u001b[0;34m\u001b[0m\u001b[0m\n\u001b[0m\u001b[1;32m   2082\u001b[0m             \u001b[0;32mreturn\u001b[0m \u001b[0mresult\u001b[0m\u001b[0;34m\u001b[0m\u001b[0;34m\u001b[0m\u001b[0m\n\u001b[1;32m   2083\u001b[0m \u001b[0;34m\u001b[0m\u001b[0m\n",
            "\u001b[0;32m</usr/local/lib/python3.6/dist-packages/decorator.py:decorator-gen-63>\u001b[0m in \u001b[0;36mload_ext\u001b[0;34m(self, module_str)\u001b[0m\n",
            "\u001b[0;32m/usr/local/lib/python3.6/dist-packages/IPython/core/magic.py\u001b[0m in \u001b[0;36m<lambda>\u001b[0;34m(f, *a, **k)\u001b[0m\n\u001b[1;32m    186\u001b[0m     \u001b[0;31m# but it's overkill for just that one bit of state.\u001b[0m\u001b[0;34m\u001b[0m\u001b[0;34m\u001b[0m\u001b[0;34m\u001b[0m\u001b[0m\n\u001b[1;32m    187\u001b[0m     \u001b[0;32mdef\u001b[0m \u001b[0mmagic_deco\u001b[0m\u001b[0;34m(\u001b[0m\u001b[0marg\u001b[0m\u001b[0;34m)\u001b[0m\u001b[0;34m:\u001b[0m\u001b[0;34m\u001b[0m\u001b[0;34m\u001b[0m\u001b[0m\n\u001b[0;32m--> 188\u001b[0;31m         \u001b[0mcall\u001b[0m \u001b[0;34m=\u001b[0m \u001b[0;32mlambda\u001b[0m \u001b[0mf\u001b[0m\u001b[0;34m,\u001b[0m \u001b[0;34m*\u001b[0m\u001b[0ma\u001b[0m\u001b[0;34m,\u001b[0m \u001b[0;34m**\u001b[0m\u001b[0mk\u001b[0m\u001b[0;34m:\u001b[0m \u001b[0mf\u001b[0m\u001b[0;34m(\u001b[0m\u001b[0;34m*\u001b[0m\u001b[0ma\u001b[0m\u001b[0;34m,\u001b[0m \u001b[0;34m**\u001b[0m\u001b[0mk\u001b[0m\u001b[0;34m)\u001b[0m\u001b[0;34m\u001b[0m\u001b[0;34m\u001b[0m\u001b[0m\n\u001b[0m\u001b[1;32m    189\u001b[0m \u001b[0;34m\u001b[0m\u001b[0m\n\u001b[1;32m    190\u001b[0m         \u001b[0;32mif\u001b[0m \u001b[0mcallable\u001b[0m\u001b[0;34m(\u001b[0m\u001b[0marg\u001b[0m\u001b[0;34m)\u001b[0m\u001b[0;34m:\u001b[0m\u001b[0;34m\u001b[0m\u001b[0;34m\u001b[0m\u001b[0m\n",
            "\u001b[0;32m/usr/local/lib/python3.6/dist-packages/IPython/core/magics/extension.py\u001b[0m in \u001b[0;36mload_ext\u001b[0;34m(self, module_str)\u001b[0m\n\u001b[1;32m     35\u001b[0m         \u001b[0;32mif\u001b[0m \u001b[0;32mnot\u001b[0m \u001b[0mmodule_str\u001b[0m\u001b[0;34m:\u001b[0m\u001b[0;34m\u001b[0m\u001b[0;34m\u001b[0m\u001b[0m\n\u001b[1;32m     36\u001b[0m             \u001b[0;32mraise\u001b[0m \u001b[0mUsageError\u001b[0m\u001b[0;34m(\u001b[0m\u001b[0;34m'Missing module name.'\u001b[0m\u001b[0;34m)\u001b[0m\u001b[0;34m\u001b[0m\u001b[0;34m\u001b[0m\u001b[0m\n\u001b[0;32m---> 37\u001b[0;31m         \u001b[0mres\u001b[0m \u001b[0;34m=\u001b[0m \u001b[0mself\u001b[0m\u001b[0;34m.\u001b[0m\u001b[0mshell\u001b[0m\u001b[0;34m.\u001b[0m\u001b[0mextension_manager\u001b[0m\u001b[0;34m.\u001b[0m\u001b[0mload_extension\u001b[0m\u001b[0;34m(\u001b[0m\u001b[0mmodule_str\u001b[0m\u001b[0;34m)\u001b[0m\u001b[0;34m\u001b[0m\u001b[0;34m\u001b[0m\u001b[0m\n\u001b[0m\u001b[1;32m     38\u001b[0m \u001b[0;34m\u001b[0m\u001b[0m\n\u001b[1;32m     39\u001b[0m         \u001b[0;32mif\u001b[0m \u001b[0mres\u001b[0m \u001b[0;34m==\u001b[0m \u001b[0;34m'already loaded'\u001b[0m\u001b[0;34m:\u001b[0m\u001b[0;34m\u001b[0m\u001b[0;34m\u001b[0m\u001b[0m\n",
            "\u001b[0;32m/usr/local/lib/python3.6/dist-packages/IPython/core/extensions.py\u001b[0m in \u001b[0;36mload_extension\u001b[0;34m(self, module_str)\u001b[0m\n\u001b[1;32m     81\u001b[0m             \u001b[0;32mif\u001b[0m \u001b[0mmodule_str\u001b[0m \u001b[0;32mnot\u001b[0m \u001b[0;32min\u001b[0m \u001b[0msys\u001b[0m\u001b[0;34m.\u001b[0m\u001b[0mmodules\u001b[0m\u001b[0;34m:\u001b[0m\u001b[0;34m\u001b[0m\u001b[0;34m\u001b[0m\u001b[0m\n\u001b[1;32m     82\u001b[0m                 \u001b[0;32mwith\u001b[0m \u001b[0mprepended_to_syspath\u001b[0m\u001b[0;34m(\u001b[0m\u001b[0mself\u001b[0m\u001b[0;34m.\u001b[0m\u001b[0mipython_extension_dir\u001b[0m\u001b[0;34m)\u001b[0m\u001b[0;34m:\u001b[0m\u001b[0;34m\u001b[0m\u001b[0;34m\u001b[0m\u001b[0m\n\u001b[0;32m---> 83\u001b[0;31m                     \u001b[0m__import__\u001b[0m\u001b[0;34m(\u001b[0m\u001b[0mmodule_str\u001b[0m\u001b[0;34m)\u001b[0m\u001b[0;34m\u001b[0m\u001b[0;34m\u001b[0m\u001b[0m\n\u001b[0m\u001b[1;32m     84\u001b[0m             \u001b[0mmod\u001b[0m \u001b[0;34m=\u001b[0m \u001b[0msys\u001b[0m\u001b[0;34m.\u001b[0m\u001b[0mmodules\u001b[0m\u001b[0;34m[\u001b[0m\u001b[0mmodule_str\u001b[0m\u001b[0;34m]\u001b[0m\u001b[0;34m\u001b[0m\u001b[0;34m\u001b[0m\u001b[0m\n\u001b[1;32m     85\u001b[0m             \u001b[0;32mif\u001b[0m \u001b[0mself\u001b[0m\u001b[0;34m.\u001b[0m\u001b[0m_call_load_ipython_extension\u001b[0m\u001b[0;34m(\u001b[0m\u001b[0mmod\u001b[0m\u001b[0;34m)\u001b[0m\u001b[0;34m:\u001b[0m\u001b[0;34m\u001b[0m\u001b[0;34m\u001b[0m\u001b[0m\n",
            "\u001b[0;31mModuleNotFoundError\u001b[0m: No module named 'autotime'",
            "",
            "\u001b[0;31m---------------------------------------------------------------------------\u001b[0;32m\nNOTE: If your import is failing due to a missing package, you can\nmanually install dependencies using either !pip or !apt.\n\nTo view examples of installing some common dependencies, click the\n\"Open Examples\" button below.\n\u001b[0;31m---------------------------------------------------------------------------\u001b[0m\n"
          ]
        }
      ]
    },
    {
      "cell_type": "code",
      "metadata": {
        "id": "Eo2DjN9nE8ba",
        "colab_type": "code",
        "colab": {}
      },
      "source": [
        "from fastai.vision import *\n",
        "from fastai.metrics import error_rate"
      ],
      "execution_count": 0,
      "outputs": []
    },
    {
      "cell_type": "code",
      "metadata": {
        "id": "o2OqRcgYFAx2",
        "colab_type": "code",
        "colab": {}
      },
      "source": [
        "import tarfile\n",
        "import pandas\n",
        "from os import listdir\n",
        "import numpy as np\n",
        "import glob\n",
        "from datetime import datetime\n",
        "from PIL import Image\n",
        "import matplotlib.pyplot as plt"
      ],
      "execution_count": 0,
      "outputs": []
    },
    {
      "cell_type": "code",
      "metadata": {
        "id": "4msMLDtyFCbP",
        "colab_type": "code",
        "colab": {}
      },
      "source": [
        "bs = 64"
      ],
      "execution_count": 0,
      "outputs": []
    },
    {
      "cell_type": "code",
      "metadata": {
        "id": "Ku2D4d5EFDhK",
        "colab_type": "code",
        "colab": {
          "base_uri": "https://localhost:8080/",
          "height": 122
        },
        "outputId": "f78927cf-7295-4b7a-d1f8-50501b16739f"
      },
      "source": [
        "from google.colab import drive\n",
        "drive.mount('/content/gdrive')"
      ],
      "execution_count": 6,
      "outputs": [
        {
          "output_type": "stream",
          "text": [
            "Go to this URL in a browser: https://accounts.google.com/o/oauth2/auth?client_id=947318989803-6bn6qk8qdgf4n4g3pfee6491hc0brc4i.apps.googleusercontent.com&redirect_uri=urn%3aietf%3awg%3aoauth%3a2.0%3aoob&response_type=code&scope=email%20https%3a%2f%2fwww.googleapis.com%2fauth%2fdocs.test%20https%3a%2f%2fwww.googleapis.com%2fauth%2fdrive%20https%3a%2f%2fwww.googleapis.com%2fauth%2fdrive.photos.readonly%20https%3a%2f%2fwww.googleapis.com%2fauth%2fpeopleapi.readonly\n",
            "\n",
            "Enter your authorization code:\n",
            "··········\n",
            "Mounted at /content/gdrive\n"
          ],
          "name": "stdout"
        }
      ]
    },
    {
      "cell_type": "markdown",
      "metadata": {
        "id": "9QljBLanFUO5",
        "colab_type": "text"
      },
      "source": [
        "# 1. Load data\n",
        "This loads the 1.4GB dataset from challenge 2, which includes all the files. \n"
      ]
    },
    {
      "cell_type": "code",
      "metadata": {
        "id": "z0QHR3GOFFX7",
        "colab_type": "code",
        "outputId": "259ce06d-7305-4795-b017-fe430444f2ae",
        "colab": {
          "base_uri": "https://localhost:8080/",
          "height": 326
        }
      },
      "source": [
        "!wget --load-cookies /tmp/cookies.txt \"https://docs.google.com/uc?export=download&confirm=$(wget --quiet --save-cookies /tmp/cookies.txt --keep-session-cookies --no-check-certificate 'https://docs.google.com/uc?export=download&id=1rRKIGPPeLognGoQMJ6AiDiwj83_aMVmY' -O- | sed -rn 's/.*confirm=([0-9A-Za-z_]+).*/\\1\\n/p')&id=1rRKIGPPeLognGoQMJ6AiDiwj83_aMVmY\" -O train_data_set.tar.gz && rm -rf /tmp/cookies.txt"
      ],
      "execution_count": 7,
      "outputs": [
        {
          "output_type": "stream",
          "text": [
            "--2020-01-14 16:23:19--  https://docs.google.com/uc?export=download&confirm=ex9g&id=1rRKIGPPeLognGoQMJ6AiDiwj83_aMVmY\n",
            "Resolving docs.google.com (docs.google.com)... 74.125.142.100, 74.125.142.139, 74.125.142.113, ...\n",
            "Connecting to docs.google.com (docs.google.com)|74.125.142.100|:443... connected.\n",
            "HTTP request sent, awaiting response... 302 Moved Temporarily\n",
            "Location: https://doc-08-24-docs.googleusercontent.com/docs/securesc/ha0ro937gcuc7l7deffksulhg5h7mbp1/pf6gla3t4fdr1frl5j8dj44rfjjehibu/1579017600000/17654960937288161688/*/1rRKIGPPeLognGoQMJ6AiDiwj83_aMVmY?e=download [following]\n",
            "Warning: wildcards not supported in HTTP.\n",
            "--2020-01-14 16:23:20--  https://doc-08-24-docs.googleusercontent.com/docs/securesc/ha0ro937gcuc7l7deffksulhg5h7mbp1/pf6gla3t4fdr1frl5j8dj44rfjjehibu/1579017600000/17654960937288161688/*/1rRKIGPPeLognGoQMJ6AiDiwj83_aMVmY?e=download\n",
            "Resolving doc-08-24-docs.googleusercontent.com (doc-08-24-docs.googleusercontent.com)... 74.125.195.132, 2607:f8b0:400e:c09::84\n",
            "Connecting to doc-08-24-docs.googleusercontent.com (doc-08-24-docs.googleusercontent.com)|74.125.195.132|:443... connected.\n",
            "HTTP request sent, awaiting response... 200 OK\n",
            "Length: unspecified [application/x-gzip]\n",
            "Saving to: ‘train_data_set.tar.gz’\n",
            "\n",
            "train_data_set.tar.     [         <=>        ]   1.44G  61.6MB/s    in 15s     \n",
            "\n",
            "2020-01-14 16:23:34 (101 MB/s) - ‘train_data_set.tar.gz’ saved [1544697991]\n",
            "\n"
          ],
          "name": "stdout"
        }
      ]
    },
    {
      "cell_type": "code",
      "metadata": {
        "id": "-dT8zmnEFZji",
        "colab_type": "code",
        "colab": {}
      },
      "source": [
        "tarred_file = tarfile.open(\"train_data_set.tar.gz\")\n",
        "tarred_file.extractall()\n",
        "tarred_file.close()"
      ],
      "execution_count": 0,
      "outputs": []
    },
    {
      "cell_type": "code",
      "metadata": {
        "id": "LvOZ2Ldse1W_",
        "colab_type": "code",
        "colab": {}
      },
      "source": [
        "def listdir_nohidden(path):\n",
        "    return glob.glob(os.path.join(path, '*'))"
      ],
      "execution_count": 0,
      "outputs": []
    },
    {
      "cell_type": "code",
      "metadata": {
        "id": "WTpDIx5wd3Ni",
        "colab_type": "code",
        "colab": {}
      },
      "source": [
        "camera_folders = listdir_nohidden('train_data_set')\n",
        "# for now, leaving out image trains which do not include any smoke pictures\n",
        "no_smoke_folders = ['train_data_set/20191018-wilson-w-mobo-c ','train_data_set/20191023-starr-n-mobo-c ','train_data_set/20191101-bh-e-mobo-c','train_data_set/20191101-bm-e-mobo-c','train_data_set/20191102-bm-e-mobo-c-2 ']\n",
        "camera_folders = [x for x in camera_folders if x not in no_smoke_folders]"
      ],
      "execution_count": 0,
      "outputs": []
    },
    {
      "cell_type": "code",
      "metadata": {
        "id": "UMmoXiRQexVB",
        "colab_type": "code",
        "colab": {
          "base_uri": "https://localhost:8080/",
          "height": 323
        },
        "outputId": "f60c118c-734c-4c8d-ef9e-2125c63769ba"
      },
      "source": [
        "camera_names = [x[24:] for x in camera_folders]\n",
        "camera_names"
      ],
      "execution_count": 11,
      "outputs": [
        {
          "output_type": "execute_result",
          "data": {
            "text/plain": [
              "['Caliente-om-w-mobo',\n",
              " 'Topanga-69bravo-n-mobo',\n",
              " 'Cranston-hp-n-mobo-c',\n",
              " 'RockHouse-wc-e-mobo-c',\n",
              " 'MLOSouth-lo-s-mobo-c',\n",
              " 'Whittier-syp-n-mobo-c',\n",
              " 'BBM-bm-n-mobo',\n",
              " 'MLOSouth2-lo-s-mobo-c',\n",
              " 'PinosSouth-pi-s-mobo-c',\n",
              " '94Fire-lp-s-mobo-c',\n",
              " 'OtaySouth-om-s-mobo',\n",
              " 'Hope-wc-e-mobo-c',\n",
              " 'Bridle-hp-n-mobo-c',\n",
              " 'MLOSouth3-lo-s-mobo-c',\n",
              " 'Benton-hp-n-mobo-c',\n",
              " 'fallbrook-rm-w-mobo-c',\n",
              " 'Lilac-rm-s-mobo',\n",
              " 'West-lp-n-mobo-c']"
            ]
          },
          "metadata": {
            "tags": []
          },
          "execution_count": 11
        }
      ]
    },
    {
      "cell_type": "markdown",
      "metadata": {
        "id": "DeIjvucJTfFF",
        "colab_type": "text"
      },
      "source": [
        "#2. Generate CSV with info about images"
      ]
    },
    {
      "cell_type": "code",
      "metadata": {
        "id": "pWAEJwSPnu06",
        "colab_type": "code",
        "colab": {
          "base_uri": "https://localhost:8080/",
          "height": 204
        },
        "outputId": "4a233c96-8fde-4143-8ad9-6310b572e21b"
      },
      "source": [
        "# load first folder of images\n",
        "image_fpaths = listdir_nohidden(camera_folders[0])\n",
        "d = {'fPath':image_fpaths}\n",
        "image_info = pd.DataFrame(d)\n",
        "image_info['fName'] = image_info['fPath'].str[-21:]\n",
        "cond1 = image_info['fName'].str[11] == '+'\n",
        "image_info['isSmoke'] = np.where(cond1, 1, 0)\n",
        "image_info.head()\n",
        "\n",
        "# mark image in which smoke first appears\n",
        "first_smoke_images = ['1498416633_+00240.jpg',\n",
        "'1499546383_+00120.jpg',\n",
        "'1512674164_+00180.jpg',\n",
        "'1528757466_+00060.jpg',\n",
        "'1529020885_+00180.jpg',\n",
        "'1529001020_+00060.jpg',\n",
        "'1530739165_+00120.jpg',\n",
        "'1532544985_+00060.jpg',\n",
        "'1530901921_+00240.jpg',\n",
        "'1559167445_+00060.jpg',\n",
        "'1562959460_+00119.jpg',\n",
        "'1563135083_+00060.jpg',\n",
        "'1563122707_+00120.jpg',\n",
        "'1563220703_-02100.jpg',\n",
        "'1563228743_+01620.jpg',\n",
        "'1564685261_+00060.jpg',\n",
        "'1564869279_+00060.jpg',\n",
        "'1565731242_+00000.jpg'] # easier than importing from a separate CSV file\n",
        "\n",
        "# mark image in which smoke first appears\n",
        "cond1 = image_info.fName.isin(first_smoke_images)\n",
        "image_info['firstSmoke'] = np.where(cond1, 1, 0)\n",
        "\n",
        "# repeat for all other folders and concatenate\n",
        "for fld in range(1,len(camera_folders)):\n",
        "  image_fpaths = listdir_nohidden(camera_folders[fld])\n",
        "  d = {'fPath':image_fpaths}\n",
        "  tmp = pd.DataFrame(d)\n",
        "  tmp['fName'] = tmp['fPath'].str[-21:]\n",
        "  cond1 = tmp['fName'].str[11] == '+'\n",
        "  tmp['isSmoke'] = np.where(cond1, 1, 0)\n",
        "  cond1 = tmp.fName.isin(first_smoke_images)\n",
        "  tmp['firstSmoke'] = np.where(cond1, 1, 0)\n",
        "  image_info = pd.concat([image_info,tmp])\n",
        "\n",
        "# extract name of area\n",
        "image_info['camera_name'] = image_info['fPath'].str.split('/',expand = True)[1]\n",
        "image_info['camera_name'] = image_info.camera_name.str.split('-',expand=True)[1]\n",
        "\n",
        "# add in time info\n",
        "image_info['unixTime'] =image_info['fName'].str[0:10].astype(int)\n",
        "\n",
        "image_info['dateTime'] = pd.to_datetime(image_info['unixTime'],unit='s')\n",
        "image_info = image_info.sort_values(by=['camera_name','unixTime'])\n",
        "\n",
        "# fix the index after sorting and concatenating\n",
        "image_info.index = pd.RangeIndex(len(image_info.index)) \n",
        "image_info.tail()"
      ],
      "execution_count": 12,
      "outputs": [
        {
          "output_type": "execute_result",
          "data": {
            "text/html": [
              "<div>\n",
              "<style scoped>\n",
              "    .dataframe tbody tr th:only-of-type {\n",
              "        vertical-align: middle;\n",
              "    }\n",
              "\n",
              "    .dataframe tbody tr th {\n",
              "        vertical-align: top;\n",
              "    }\n",
              "\n",
              "    .dataframe thead th {\n",
              "        text-align: right;\n",
              "    }\n",
              "</style>\n",
              "<table border=\"1\" class=\"dataframe\">\n",
              "  <thead>\n",
              "    <tr style=\"text-align: right;\">\n",
              "      <th></th>\n",
              "      <th>fPath</th>\n",
              "      <th>fName</th>\n",
              "      <th>isSmoke</th>\n",
              "      <th>firstSmoke</th>\n",
              "      <th>camera_name</th>\n",
              "      <th>unixTime</th>\n",
              "      <th>dateTime</th>\n",
              "    </tr>\n",
              "  </thead>\n",
              "  <tbody>\n",
              "    <tr>\n",
              "      <th>1334</th>\n",
              "      <td>train_data_set/20180611-fallbrook-rm-w-mobo-c/...</td>\n",
              "      <td>1528759566_+02160.jpg</td>\n",
              "      <td>1</td>\n",
              "      <td>0</td>\n",
              "      <td>fallbrook</td>\n",
              "      <td>1528759566</td>\n",
              "      <td>2018-06-11 23:26:06</td>\n",
              "    </tr>\n",
              "    <tr>\n",
              "      <th>1335</th>\n",
              "      <td>train_data_set/20180611-fallbrook-rm-w-mobo-c/...</td>\n",
              "      <td>1528759626_+02220.jpg</td>\n",
              "      <td>1</td>\n",
              "      <td>0</td>\n",
              "      <td>fallbrook</td>\n",
              "      <td>1528759626</td>\n",
              "      <td>2018-06-11 23:27:06</td>\n",
              "    </tr>\n",
              "    <tr>\n",
              "      <th>1336</th>\n",
              "      <td>train_data_set/20180611-fallbrook-rm-w-mobo-c/...</td>\n",
              "      <td>1528759686_+02280.jpg</td>\n",
              "      <td>1</td>\n",
              "      <td>0</td>\n",
              "      <td>fallbrook</td>\n",
              "      <td>1528759686</td>\n",
              "      <td>2018-06-11 23:28:06</td>\n",
              "    </tr>\n",
              "    <tr>\n",
              "      <th>1337</th>\n",
              "      <td>train_data_set/20180611-fallbrook-rm-w-mobo-c/...</td>\n",
              "      <td>1528759746_+02340.jpg</td>\n",
              "      <td>1</td>\n",
              "      <td>0</td>\n",
              "      <td>fallbrook</td>\n",
              "      <td>1528759746</td>\n",
              "      <td>2018-06-11 23:29:06</td>\n",
              "    </tr>\n",
              "    <tr>\n",
              "      <th>1338</th>\n",
              "      <td>train_data_set/20180611-fallbrook-rm-w-mobo-c/...</td>\n",
              "      <td>1528759806_+02400.jpg</td>\n",
              "      <td>1</td>\n",
              "      <td>0</td>\n",
              "      <td>fallbrook</td>\n",
              "      <td>1528759806</td>\n",
              "      <td>2018-06-11 23:30:06</td>\n",
              "    </tr>\n",
              "  </tbody>\n",
              "</table>\n",
              "</div>"
            ],
            "text/plain": [
              "                                                  fPath  ...            dateTime\n",
              "1334  train_data_set/20180611-fallbrook-rm-w-mobo-c/...  ... 2018-06-11 23:26:06\n",
              "1335  train_data_set/20180611-fallbrook-rm-w-mobo-c/...  ... 2018-06-11 23:27:06\n",
              "1336  train_data_set/20180611-fallbrook-rm-w-mobo-c/...  ... 2018-06-11 23:28:06\n",
              "1337  train_data_set/20180611-fallbrook-rm-w-mobo-c/...  ... 2018-06-11 23:29:06\n",
              "1338  train_data_set/20180611-fallbrook-rm-w-mobo-c/...  ... 2018-06-11 23:30:06\n",
              "\n",
              "[5 rows x 7 columns]"
            ]
          },
          "metadata": {
            "tags": []
          },
          "execution_count": 12
        }
      ]
    },
    {
      "cell_type": "markdown",
      "metadata": {
        "id": "VYcX4MDMvHHa",
        "colab_type": "text"
      },
      "source": [
        "#3. Load images, subtract RGB, write to new folder\n",
        "This currently takes a long time because of the for loops, if anyone has suggestions on speeding it up would love to hear about it. "
      ]
    },
    {
      "cell_type": "code",
      "metadata": {
        "id": "ibwAIHLevb5a",
        "colab_type": "code",
        "colab": {}
      },
      "source": [
        "%%time\n",
        "# takes about 40 seconds per directory, longest duration cell in notebook so far because of the i/o. \n",
        "# This could be sped up by writing subtraction to binary .npy files...\n",
        "\n",
        "!rm -rd train_data_set_subtract\n",
        "# create a new directory for the subtraction images\n",
        "os.makedirs('train_data_set_subtract',exist_ok=True) \n",
        "\n",
        "# extract the name of the image to generate new filenames and subset data\n",
        "camNames = image_info['camera_name'].unique()\n",
        "cN = camNames[0]\n",
        "\n",
        "# subset to one set of images\n",
        "tmp_df = image_info.loc[image_info.camera_name==cN]\n",
        "nimages = tmp_df.shape[0]\n",
        "\n",
        "# create lists in which to append the new names and data info.\n",
        "# for a2b in range(0,nimages-1):\n",
        "for a2b in range(0,nimages-1):\n",
        "  # read in pairs of images\n",
        "  img1 = np.array(Image.open(tmp_df['fPath'].iloc[a2b]))\n",
        "  img2 = np.array(Image.open(tmp_df['fPath'].iloc[a2b+1]))\n",
        "  # subtract image 1 from image 2, convert to image\n",
        "  img_subtraction = img2-img1\n",
        "  img_subtraction = Image.fromarray(img_subtraction)\n",
        "  # generate new unique name that contains all relevant file info\n",
        "  fTime = np.round(np.mean([tmp_df['unixTime'].iloc[a2b+1],tmp_df['unixTime'].iloc[a2b]]))\n",
        "  # get info about the two images and append to a list\n",
        "  img1_smoke = tmp_df['isSmoke'].iloc[a2b]\n",
        "  img2_smoke = tmp_df['isSmoke'].iloc[a2b+1]\n",
        "\n",
        "  if img1_smoke ==1 and img2_smoke==1:\n",
        "    smokeInfo = ('Smoke')\n",
        "  elif img1_smoke==0 and img2_smoke==1:\n",
        "    smokeInfo = ('smokeStart')\n",
        "  elif img1_smoke==1 and img2_smoke==0:\n",
        "    smokeInfo = ('smokeStop')\n",
        "  else:\n",
        "    smokeInfo = ('noSmoke')\n",
        "\n",
        "  new_fname = cN + '_' + str(int(fTime)) + '_' + smokeInfo + '_rgbsub.jpg'\n",
        "  img_subtraction.save('train_data_set_subtract/' + new_fname)\n",
        "\n",
        "\n",
        "# repeat for all camera folders\n",
        "for d in range(1,len(camNames)):\n",
        "  cN = camNames[d]\n",
        "\n",
        "  # subset to one set of images\n",
        "  tmp_df = image_info.loc[image_info.camera_name==cN]\n",
        "  nimages = tmp_df.shape[0]\n",
        "\n",
        "  # create lists in which to append the new names and data info.\n",
        "  # for a2b in range(0,nimages-1):\n",
        "  for a2b in range(0,nimages-1):\n",
        "    # read in pairs of images\n",
        "    img1 = np.array(Image.open(tmp_df['fPath'].iloc[a2b]))\n",
        "    img2 = np.array(Image.open(tmp_df['fPath'].iloc[a2b+1]))\n",
        "    # subtract image 1 from image 2, convert to image\n",
        "    img_subtraction = img2-img1\n",
        "    img_subtraction = Image.fromarray(img_subtraction)\n",
        "    # generate new unique name that contains all relevant file info\n",
        "    fTime = np.round(np.mean([tmp_df['unixTime'].iloc[a2b+1],tmp_df['unixTime'].iloc[a2b]]))\n",
        "    # get info about the two images and append to a list\n",
        "    img1_smoke = tmp_df['isSmoke'].iloc[a2b]\n",
        "    img2_smoke = tmp_df['isSmoke'].iloc[a2b+1]\n",
        "\n",
        "    if img1_smoke ==1 and img2_smoke==1:\n",
        "      smokeInfo = ('Smoke')\n",
        "    elif img1_smoke==0 and img2_smoke==1:\n",
        "      smokeInfo = ('smokeStart')\n",
        "    elif img1_smoke==1 and img2_smoke==0:\n",
        "      smokeInfo = ('smokeStop')\n",
        "    else:\n",
        "      smokeInfo = ('noSmoke')\n",
        "\n",
        "    new_fname = cN + '_' + str(int(fTime)) + '_' + smokeInfo + '_rgbsub.jpg'\n",
        "    img_subtraction.save('train_data_set_subtract/' + new_fname)"
      ],
      "execution_count": 0,
      "outputs": []
    },
    {
      "cell_type": "code",
      "metadata": {
        "id": "4kB4_pLA5jyU",
        "colab_type": "code",
        "colab": {
          "base_uri": "https://localhost:8080/",
          "height": 204
        },
        "outputId": "9b96bc33-5371-4e0e-a668-6095545c4c95"
      },
      "source": [
        "# generate a new dataframe with all the info extracted from the newly generated filenames\n",
        "fNames = os.listdir('train_data_set_subtract')\n",
        "sub_info = pd.DataFrame(fNames,columns = ['fName'])\n",
        "tmp = sub_info['fName'].str.split('_',expand=True) \n",
        "sub_info['camera'] = tmp[0]\n",
        "sub_info['unixTime'] = tmp[1].astype(int)\n",
        "sub_info['dateTime'] = pd.to_datetime(sub_info['unixTime'],unit='s')\n",
        "sub_info['smokeLabel'] = tmp[2]\n",
        "sub_info = sub_info.sort_values(by=['camera','unixTime'])\n",
        "sub_info.head()\n"
      ],
      "execution_count": 67,
      "outputs": [
        {
          "output_type": "execute_result",
          "data": {
            "text/html": [
              "<div>\n",
              "<style scoped>\n",
              "    .dataframe tbody tr th:only-of-type {\n",
              "        vertical-align: middle;\n",
              "    }\n",
              "\n",
              "    .dataframe tbody tr th {\n",
              "        vertical-align: top;\n",
              "    }\n",
              "\n",
              "    .dataframe thead th {\n",
              "        text-align: right;\n",
              "    }\n",
              "</style>\n",
              "<table border=\"1\" class=\"dataframe\">\n",
              "  <thead>\n",
              "    <tr style=\"text-align: right;\">\n",
              "      <th></th>\n",
              "      <th>fName</th>\n",
              "      <th>camera</th>\n",
              "      <th>unixTime</th>\n",
              "      <th>dateTime</th>\n",
              "      <th>smokeLabel</th>\n",
              "    </tr>\n",
              "  </thead>\n",
              "  <tbody>\n",
              "    <tr>\n",
              "      <th>822</th>\n",
              "      <td>94Fire_1559166035_noSmoke_rgbsub.jpg</td>\n",
              "      <td>94Fire</td>\n",
              "      <td>1559166035</td>\n",
              "      <td>2019-05-29 21:40:35</td>\n",
              "      <td>noSmoke</td>\n",
              "    </tr>\n",
              "    <tr>\n",
              "      <th>1039</th>\n",
              "      <td>94Fire_1559166095_noSmoke_rgbsub.jpg</td>\n",
              "      <td>94Fire</td>\n",
              "      <td>1559166095</td>\n",
              "      <td>2019-05-29 21:41:35</td>\n",
              "      <td>noSmoke</td>\n",
              "    </tr>\n",
              "    <tr>\n",
              "      <th>1028</th>\n",
              "      <td>94Fire_1559166155_noSmoke_rgbsub.jpg</td>\n",
              "      <td>94Fire</td>\n",
              "      <td>1559166155</td>\n",
              "      <td>2019-05-29 21:42:35</td>\n",
              "      <td>noSmoke</td>\n",
              "    </tr>\n",
              "    <tr>\n",
              "      <th>1027</th>\n",
              "      <td>94Fire_1559166215_noSmoke_rgbsub.jpg</td>\n",
              "      <td>94Fire</td>\n",
              "      <td>1559166215</td>\n",
              "      <td>2019-05-29 21:43:35</td>\n",
              "      <td>noSmoke</td>\n",
              "    </tr>\n",
              "    <tr>\n",
              "      <th>855</th>\n",
              "      <td>94Fire_1559166275_noSmoke_rgbsub.jpg</td>\n",
              "      <td>94Fire</td>\n",
              "      <td>1559166275</td>\n",
              "      <td>2019-05-29 21:44:35</td>\n",
              "      <td>noSmoke</td>\n",
              "    </tr>\n",
              "  </tbody>\n",
              "</table>\n",
              "</div>"
            ],
            "text/plain": [
              "                                     fName  ... smokeLabel\n",
              "822   94Fire_1559166035_noSmoke_rgbsub.jpg  ...    noSmoke\n",
              "1039  94Fire_1559166095_noSmoke_rgbsub.jpg  ...    noSmoke\n",
              "1028  94Fire_1559166155_noSmoke_rgbsub.jpg  ...    noSmoke\n",
              "1027  94Fire_1559166215_noSmoke_rgbsub.jpg  ...    noSmoke\n",
              "855   94Fire_1559166275_noSmoke_rgbsub.jpg  ...    noSmoke\n",
              "\n",
              "[5 rows x 5 columns]"
            ]
          },
          "metadata": {
            "tags": []
          },
          "execution_count": 67
        }
      ]
    }
  ]
}
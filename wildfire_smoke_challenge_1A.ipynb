{
  "nbformat": 4,
  "nbformat_minor": 0,
  "metadata": {
    "colab": {
      "name": "Untitled0.ipynb",
      "provenance": [],
      "authorship_tag": "ABX9TyPgylvThaebBtTAfU4Mj5F2",
      "include_colab_link": true
    },
    "kernelspec": {
      "name": "python3",
      "display_name": "Python 3"
    }
  },
  "cells": [
    {
      "cell_type": "markdown",
      "metadata": {
        "id": "view-in-github",
        "colab_type": "text"
      },
      "source": [
        "<a href=\"https://colab.research.google.com/github/willschuerman/lets-stop-wildfires-hackathon/blob/will/wildfire_smoke_challenge_1A.ipynb\" target=\"_parent\"><img src=\"https://colab.research.google.com/assets/colab-badge.svg\" alt=\"Open In Colab\"/></a>"
      ]
    },
    {
      "cell_type": "code",
      "metadata": {
        "id": "LqDxppaoB-NQ",
        "colab_type": "code",
        "colab": {}
      },
      "source": [
        "%reload_ext autoreload\n",
        "%autoreload 2\n",
        "%matplotlib inline"
      ],
      "execution_count": 0,
      "outputs": []
    },
    {
      "cell_type": "code",
      "metadata": {
        "id": "Eo2DjN9nE8ba",
        "colab_type": "code",
        "colab": {}
      },
      "source": [
        "from fastai.vision import *\n",
        "from fastai.metrics import error_rate"
      ],
      "execution_count": 0,
      "outputs": []
    },
    {
      "cell_type": "code",
      "metadata": {
        "id": "o2OqRcgYFAx2",
        "colab_type": "code",
        "colab": {}
      },
      "source": [
        "import tarfile"
      ],
      "execution_count": 0,
      "outputs": []
    },
    {
      "cell_type": "code",
      "metadata": {
        "id": "4msMLDtyFCbP",
        "colab_type": "code",
        "colab": {}
      },
      "source": [
        "bs = 64"
      ],
      "execution_count": 0,
      "outputs": []
    },
    {
      "cell_type": "code",
      "metadata": {
        "id": "Ku2D4d5EFDhK",
        "colab_type": "code",
        "colab": {
          "base_uri": "https://localhost:8080/",
          "height": 122
        },
        "outputId": "0cf3d524-3e35-4e65-ccbf-63e813baccc9"
      },
      "source": [
        "from google.colab import drive\n",
        "drive.mount('/content/gdrive')"
      ],
      "execution_count": 5,
      "outputs": [
        {
          "output_type": "stream",
          "text": [
            "Go to this URL in a browser: https://accounts.google.com/o/oauth2/auth?client_id=947318989803-6bn6qk8qdgf4n4g3pfee6491hc0brc4i.apps.googleusercontent.com&redirect_uri=urn%3aietf%3awg%3aoauth%3a2.0%3aoob&response_type=code&scope=email%20https%3a%2f%2fwww.googleapis.com%2fauth%2fdocs.test%20https%3a%2f%2fwww.googleapis.com%2fauth%2fdrive%20https%3a%2f%2fwww.googleapis.com%2fauth%2fdrive.photos.readonly%20https%3a%2f%2fwww.googleapis.com%2fauth%2fpeopleapi.readonly\n",
            "\n",
            "Enter your authorization code:\n",
            "··········\n",
            "Mounted at /content/gdrive\n"
          ],
          "name": "stdout"
        }
      ]
    },
    {
      "cell_type": "markdown",
      "metadata": {
        "id": "9QljBLanFUO5",
        "colab_type": "text"
      },
      "source": [
        "# 1. Load data\n"
      ]
    },
    {
      "cell_type": "code",
      "metadata": {
        "id": "z0QHR3GOFFX7",
        "colab_type": "code",
        "colab": {
          "base_uri": "https://localhost:8080/",
          "height": 445
        },
        "outputId": "1d2bb228-6a2b-470a-c430-b0ed83eec5c5"
      },
      "source": [
        "!wget https://www.dropbox.com/s/ghfhjtoh1z59xeb/wildfire_smoke_data.tar\n"
      ],
      "execution_count": 6,
      "outputs": [
        {
          "output_type": "stream",
          "text": [
            "--2020-01-12 00:09:33--  https://www.dropbox.com/s/ghfhjtoh1z59xeb/wildfire_smoke_data.tar\n",
            "Resolving www.dropbox.com (www.dropbox.com)... 162.125.8.1, 2620:100:6016:1::a27d:101\n",
            "Connecting to www.dropbox.com (www.dropbox.com)|162.125.8.1|:443... connected.\n",
            "HTTP request sent, awaiting response... 301 Moved Permanently\n",
            "Location: /s/raw/ghfhjtoh1z59xeb/wildfire_smoke_data.tar [following]\n",
            "--2020-01-12 00:09:33--  https://www.dropbox.com/s/raw/ghfhjtoh1z59xeb/wildfire_smoke_data.tar\n",
            "Reusing existing connection to www.dropbox.com:443.\n",
            "HTTP request sent, awaiting response... 302 Found\n",
            "Location: https://uc4d3a63410ee11b7172b95e9fc3.dl.dropboxusercontent.com/cd/0/inline/Av-X41IPba1zzwSL18Fj9hEZ8XtjnoVmjy4mVz_XN89Hb6vwFRO-4pL5Aw-5asxjOGWrlQTcpsdvTAWxhq16jR47O_H2qN9dxlABmxI7_Zbw-jB_M_-yfUy9eQHJkrk2HA0/file# [following]\n",
            "--2020-01-12 00:09:33--  https://uc4d3a63410ee11b7172b95e9fc3.dl.dropboxusercontent.com/cd/0/inline/Av-X41IPba1zzwSL18Fj9hEZ8XtjnoVmjy4mVz_XN89Hb6vwFRO-4pL5Aw-5asxjOGWrlQTcpsdvTAWxhq16jR47O_H2qN9dxlABmxI7_Zbw-jB_M_-yfUy9eQHJkrk2HA0/file\n",
            "Resolving uc4d3a63410ee11b7172b95e9fc3.dl.dropboxusercontent.com (uc4d3a63410ee11b7172b95e9fc3.dl.dropboxusercontent.com)... 162.125.8.6, 2620:100:601b:6::a27d:806\n",
            "Connecting to uc4d3a63410ee11b7172b95e9fc3.dl.dropboxusercontent.com (uc4d3a63410ee11b7172b95e9fc3.dl.dropboxusercontent.com)|162.125.8.6|:443... connected.\n",
            "HTTP request sent, awaiting response... 302 FOUND\n",
            "Location: /cd/0/inline2/Av9DUuEARriUJyt3K3kNggHYx8NAKFGUjanfgoVRbYMGw1Vdk66Vxkp6MuR41p1DGzKvRRchMTkBkG_0lxUwJZoAxH7hnfSttYIXq6maYIGfzADlvpD8IJUPdWJ1B47SeBUO_tbgH_0HyvGHkHAm5rQwXAK3aQaQZqS-2BEYXV-ufHZ8uQlk6-istcHmcyRjBWZi0_NmXA8CR6-RlbSDEbGNkxiB7X5iY7C7k6saQNYcJqhhm8Pwyb6MNZmrDAgso5NKTJ2hzQ6vJVSA1Twx0ljivpH2fmBRHHM-gRo6JkWxEykzgPOwarcbTIueFmmUq0ZXYpY2ywWNmn-iIbBDcKdcFO-t31pwou0bCgrI3hzicQ/file [following]\n",
            "--2020-01-12 00:09:34--  https://uc4d3a63410ee11b7172b95e9fc3.dl.dropboxusercontent.com/cd/0/inline2/Av9DUuEARriUJyt3K3kNggHYx8NAKFGUjanfgoVRbYMGw1Vdk66Vxkp6MuR41p1DGzKvRRchMTkBkG_0lxUwJZoAxH7hnfSttYIXq6maYIGfzADlvpD8IJUPdWJ1B47SeBUO_tbgH_0HyvGHkHAm5rQwXAK3aQaQZqS-2BEYXV-ufHZ8uQlk6-istcHmcyRjBWZi0_NmXA8CR6-RlbSDEbGNkxiB7X5iY7C7k6saQNYcJqhhm8Pwyb6MNZmrDAgso5NKTJ2hzQ6vJVSA1Twx0ljivpH2fmBRHHM-gRo6JkWxEykzgPOwarcbTIueFmmUq0ZXYpY2ywWNmn-iIbBDcKdcFO-t31pwou0bCgrI3hzicQ/file\n",
            "Reusing existing connection to uc4d3a63410ee11b7172b95e9fc3.dl.dropboxusercontent.com:443.\n",
            "HTTP request sent, awaiting response... 200 OK\n",
            "Length: 884103680 (843M) [application/x-tar]\n",
            "Saving to: ‘wildfire_smoke_data.tar’\n",
            "\n",
            "wildfire_smoke_data 100%[===================>] 843.15M  46.1MB/s    in 21s     \n",
            "\n",
            "2020-01-12 00:09:55 (40.1 MB/s) - ‘wildfire_smoke_data.tar’ saved [884103680/884103680]\n",
            "\n"
          ],
          "name": "stdout"
        }
      ]
    },
    {
      "cell_type": "code",
      "metadata": {
        "id": "-dT8zmnEFZji",
        "colab_type": "code",
        "colab": {}
      },
      "source": [
        "\n",
        "tarred_file = tarfile.open(\"wildfire_smoke_data.tar\")\n",
        "tarred_file.extractall()\n",
        "tarred_file.close()"
      ],
      "execution_count": 0,
      "outputs": []
    },
    {
      "cell_type": "code",
      "metadata": {
        "id": "LIWr83DgFcDN",
        "colab_type": "code",
        "colab": {
          "base_uri": "https://localhost:8080/",
          "height": 1000
        },
        "outputId": "bc27ec57-01ad-4bfe-b4e0-be78e5e9ca4e"
      },
      "source": [
        "!ls wildfire_smoke_data/train/no_smoke\n"
      ],
      "execution_count": 16,
      "outputs": [
        {
          "output_type": "stream",
          "text": [
            "1498414173_-02220.jpg  1530738385_-00660.jpg  1563134603_-00420.jpg\n",
            "1498414233_-02160.jpg  1530738445_-00600.jpg  1563134663_-00360.jpg\n",
            "1498414293_-02100.jpg  1530738505_-00540.jpg  1563134723_-00300.jpg\n",
            "1498414353_-02040.jpg  1530738565_-00480.jpg  1563134783_-00240.jpg\n",
            "1498414413_-01980.jpg  1530738625_-00420.jpg  1563134843_-00180.jpg\n",
            "1498414473_-01920.jpg  1530738865_-00180.jpg  1563134903_-00120.jpg\n",
            "1498414713_-01680.jpg  1530738925_-00120.jpg  1563134963_-00060.jpg\n",
            "1498414773_-01620.jpg  1530899281_-02400.jpg  1563135023_+00000.jpg\n",
            "1498414833_-01560.jpg  1530899341_-02340.jpg  1563220584_-02219.jpg\n",
            "1498414893_-01500.jpg  1530899401_-02280.jpg  1563220643_-02160.jpg\n",
            "1498414953_-01440.jpg  1530899461_-02220.jpg  1563225503_-01620.jpg\n",
            "1498415013_-01380.jpg  1530899521_-02160.jpg  1563225563_-01560.jpg\n",
            "1498415073_-01320.jpg  1530899581_-02100.jpg  1563225623_-01500.jpg\n",
            "1498415133_-01260.jpg  1530899641_-02040.jpg  1563225683_-01440.jpg\n",
            "1498415193_-01200.jpg  1530899701_-01980.jpg  1563225744_-01379.jpg\n",
            "1498415253_-01140.jpg  1530899761_-01920.jpg  1563225803_-01320.jpg\n",
            "1498415313_-01080.jpg  1530899821_-01860.jpg  1563225863_-01260.jpg\n",
            "1498415373_-01020.jpg  1530899881_-01800.jpg  1563226103_-01020.jpg\n",
            "1498415433_-00960.jpg  1530899941_-01740.jpg  1563226163_-00960.jpg\n",
            "1498415613_-00780.jpg  1530900001_-01680.jpg  1563226223_-00900.jpg\n",
            "1498415673_-00720.jpg  1530900061_-01620.jpg  1563226283_-00840.jpg\n",
            "1498415733_-00660.jpg  1530900121_-01560.jpg  1563226343_-00780.jpg\n",
            "1498415793_-00600.jpg  1530900361_-01320.jpg  1563226403_-00720.jpg\n",
            "1498415853_-00540.jpg  1530900421_-01260.jpg  1563226463_-00660.jpg\n",
            "1498415913_-00480.jpg  1530900481_-01200.jpg  1563226523_-00600.jpg\n",
            "1498415973_-00420.jpg  1530900541_-01140.jpg  1563226583_-00540.jpg\n",
            "1498416033_-00360.jpg  1530900601_-01080.jpg  1563226643_-00480.jpg\n",
            "1498416333_-00060.jpg  1530900661_-01020.jpg  1563226703_-00420.jpg\n",
            "1498416393_+00000.jpg  1530900721_-00960.jpg  1563226763_-00360.jpg\n",
            "1498416453_+00060.jpg  1530900781_-00900.jpg  1563226823_-00300.jpg\n",
            "1498416513_+00120.jpg  1530900841_-00840.jpg  1563226883_-00240.jpg\n",
            "1498416573_+00180.jpg  1530900901_-00780.jpg  1563226943_-00180.jpg\n",
            "1499544463_-01800.jpg  1530900961_-00720.jpg  1563227003_-00120.jpg\n",
            "1499544523_-01740.jpg  1530901021_-00660.jpg  1563227063_-00060.jpg\n",
            "1499544583_-01680.jpg  1530901081_-00600.jpg  1563227123_+00000.jpg\n",
            "1499544643_-01620.jpg  1530901141_-00540.jpg  1563227183_+00060.jpg\n",
            "1499544703_-01560.jpg  1530901381_-00300.jpg  1563227243_+00120.jpg\n",
            "1499544763_-01500.jpg  1530901441_-00240.jpg  1563227303_+00180.jpg\n",
            "1499544823_-01440.jpg  1530901501_-00180.jpg  1563227363_+00240.jpg\n",
            "1499544883_-01380.jpg  1530901561_-00120.jpg  1563227423_+00300.jpg\n",
            "1499544943_-01320.jpg  1530901621_-00060.jpg  1563227723_+00600.jpg\n",
            "1499545003_-01260.jpg  1530901681_+00000.jpg  1563227784_+00661.jpg\n",
            "1499545063_-01200.jpg  1530901741_+00060.jpg  1563227843_+00720.jpg\n",
            "1499545123_-01140.jpg  1530901801_+00120.jpg  1563227903_+00780.jpg\n",
            "1499545183_-01080.jpg  1530901861_+00180.jpg  1563227963_+00840.jpg\n",
            "1499545243_-01020.jpg  1532543365_-01560.jpg  1563228023_+00900.jpg\n",
            "1499545303_-00960.jpg  1532543425_-01500.jpg  1563228083_+00960.jpg\n",
            "1499545363_-00900.jpg  1532543485_-01440.jpg  1563228145_+01022.jpg\n",
            "1499545423_-00840.jpg  1532543545_-01380.jpg  1563228203_+01080.jpg\n",
            "1499545483_-00780.jpg  1532543605_-01320.jpg  1563228263_+01140.jpg\n",
            "1499545543_-00720.jpg  1532543665_-01260.jpg  1563228323_+01200.jpg\n",
            "1499545603_-00660.jpg  1532543725_-01200.jpg  1563228384_+01261.jpg\n",
            "1499545663_-00600.jpg  1532543785_-01140.jpg  1563228443_+01320.jpg\n",
            "1499545723_-00540.jpg  1532543845_-01080.jpg  1563228683_+01560.jpg\n",
            "1499545783_-00480.jpg  1532543905_-01020.jpg  1564682801_-02400.jpg\n",
            "1499545843_-00420.jpg  1532544385_-00540.jpg  1564682861_-02340.jpg\n",
            "1499545903_-00360.jpg  1532544445_-00480.jpg  1564682921_-02280.jpg\n",
            "1499545963_-00300.jpg  1532544505_-00420.jpg  1564682981_-02220.jpg\n",
            "1499546023_-00240.jpg  1532544745_-00180.jpg  1564683041_-02160.jpg\n",
            "1499546083_-00180.jpg  1532544805_-00120.jpg  1564683101_-02100.jpg\n",
            "1499546143_-00120.jpg  1532544865_-00060.jpg  1564683161_-02040.jpg\n",
            "1499546203_-00060.jpg  1532544925_+00000.jpg  1564683221_-01980.jpg\n",
            "1499546263_+00000.jpg  1559166005_-01380.jpg  1564683282_-01919.jpg\n",
            "1499546323_+00060.jpg  1559166065_-01320.jpg  1564683341_-01860.jpg\n",
            "1512672184_-01800.jpg  1559166125_-01260.jpg  1564683401_-01800.jpg\n",
            "1512672244_-01740.jpg  1559166185_-01200.jpg  1564683461_-01740.jpg\n",
            "1512672304_-01680.jpg  1559166245_-01140.jpg  1564683521_-01680.jpg\n",
            "1512672364_-01620.jpg  1559166305_-01080.jpg  1564683581_-01620.jpg\n",
            "1512672664_-01320.jpg  1559166546_-00839.jpg  1564683641_-01560.jpg\n",
            "1512672724_-01260.jpg  1559166605_-00780.jpg  1564683701_-01500.jpg\n",
            "1512672964_-01020.jpg  1559166665_-00720.jpg  1564683761_-01440.jpg\n",
            "1512673024_-00960.jpg  1559166725_-00660.jpg  1564683821_-01380.jpg\n",
            "1512673084_-00900.jpg  1559166785_-00600.jpg  1564683881_-01320.jpg\n",
            "1512673144_-00840.jpg  1559166845_-00540.jpg  1564683941_-01260.jpg\n",
            "1512673204_-00780.jpg  1559166905_-00480.jpg  1564684001_-01200.jpg\n",
            "1512673264_-00720.jpg  1559166965_-00420.jpg  1564684061_-01140.jpg\n",
            "1512673324_-00660.jpg  1559167025_-00360.jpg  1564684121_-01080.jpg\n",
            "1512673384_-00600.jpg  1559167085_-00300.jpg  1564684181_-01020.jpg\n",
            "1512673444_-00540.jpg  1559167145_-00240.jpg  1564684241_-00960.jpg\n",
            "1512673504_-00480.jpg  1559167205_-00180.jpg  1564684301_-00900.jpg\n",
            "1512673564_-00420.jpg  1559167265_-00120.jpg  1564684361_-00840.jpg\n",
            "1512673624_-00360.jpg  1559167325_-00060.jpg  1564684601_-00600.jpg\n",
            "1512673684_-00300.jpg  1559167385_+00000.jpg  1564684661_-00540.jpg\n",
            "1512673744_-00240.jpg  1562957000_-02341.jpg  1564684721_-00480.jpg\n",
            "1512673804_-00180.jpg  1562957061_-02280.jpg  1564684781_-00420.jpg\n",
            "1512674044_+00060.jpg  1562957120_-02221.jpg  1564684841_-00360.jpg\n",
            "1512674104_+00120.jpg  1562957240_-02101.jpg  1564684901_-00300.jpg\n",
            "1528755246_-02160.jpg  1562957301_-02040.jpg  1564684961_-00240.jpg\n",
            "1528755306_-02100.jpg  1562957360_-01981.jpg  1564685021_-00180.jpg\n",
            "1528755366_-02040.jpg  1562957420_-01921.jpg  1564685082_-00119.jpg\n",
            "1528755426_-01980.jpg  1562957480_-01861.jpg  1564685141_-00060.jpg\n",
            "1528755486_-01920.jpg  1562957540_-01801.jpg  1564685201_+00000.jpg\n",
            "1528755546_-01860.jpg  1562957600_-01741.jpg  1564866819_-02400.jpg\n",
            "1528755606_-01800.jpg  1562958080_-01261.jpg  1564866879_-02340.jpg\n",
            "1528755666_-01740.jpg  1562958140_-01201.jpg  1564866939_-02280.jpg\n",
            "1528755726_-01680.jpg  1562958200_-01141.jpg  1564866999_-02220.jpg\n",
            "1528755786_-01620.jpg  1562958440_-00901.jpg  1564867059_-02160.jpg\n",
            "1528756506_-00900.jpg  1562958500_-00841.jpg  1564867179_-02040.jpg\n",
            "1528756566_-00840.jpg  1562958560_-00781.jpg  1564867239_-01980.jpg\n",
            "1528756626_-00780.jpg  1562958620_-00721.jpg  1564867299_-01920.jpg\n",
            "1528756686_-00720.jpg  1562958680_-00661.jpg  1564867360_-01859.jpg\n",
            "1528756746_-00660.jpg  1562958740_-00601.jpg  1564867419_-01800.jpg\n",
            "1528756806_-00600.jpg  1562958800_-00541.jpg  1564867539_-01680.jpg\n",
            "1528756866_-00540.jpg  1562958860_-00481.jpg  1564867600_-01619.jpg\n",
            "1528756926_-00480.jpg  1562958920_-00421.jpg  1564867659_-01560.jpg\n",
            "1528756986_-00420.jpg  1562958980_-00361.jpg  1564867719_-01500.jpg\n",
            "1528757046_-00360.jpg  1562959040_-00301.jpg  1564867779_-01440.jpg\n",
            "1528757106_-00300.jpg  1562959100_-00241.jpg  1564867839_-01380.jpg\n",
            "1528757166_-00240.jpg  1562959160_-00181.jpg  1564867899_-01320.jpg\n",
            "1528757226_-00180.jpg  1562959220_-00121.jpg  1564867959_-01260.jpg\n",
            "1528757286_-00120.jpg  1562959280_-00061.jpg  1564868019_-01200.jpg\n",
            "1528757346_-00060.jpg  1562959341_+00000.jpg  1564868079_-01140.jpg\n",
            "1528757406_+00000.jpg  1563120727_-01860.jpg  1564868139_-01080.jpg\n",
            "1528999580_-01380.jpg  1563120787_-01800.jpg  1564868201_-01018.jpg\n",
            "1528999640_-01320.jpg  1563120847_-01740.jpg  1564868259_-00960.jpg\n",
            "1528999700_-01260.jpg  1563121087_-01500.jpg  1564868320_-00899.jpg\n",
            "1528999940_-01020.jpg  1563121147_-01440.jpg  1564868379_-00840.jpg\n",
            "1529000000_-00960.jpg  1563121207_-01380.jpg  1564868439_-00780.jpg\n",
            "1529000060_-00900.jpg  1563121267_-01320.jpg  1564868499_-00720.jpg\n",
            "1529000120_-00840.jpg  1563121327_-01260.jpg  1564868559_-00660.jpg\n",
            "1529000180_-00780.jpg  1563121387_-01200.jpg  1564868619_-00600.jpg\n",
            "1529000240_-00720.jpg  1563121447_-01140.jpg  1564868679_-00540.jpg\n",
            "1529000480_-00480.jpg  1563121507_-01080.jpg  1564868739_-00480.jpg\n",
            "1529000540_-00420.jpg  1563121567_-01020.jpg  1564868801_-00418.jpg\n",
            "1529000600_-00360.jpg  1563121627_-00960.jpg  1564868859_-00360.jpg\n",
            "1529000660_-00300.jpg  1563121687_-00900.jpg  1564868919_-00300.jpg\n",
            "1529000720_-00240.jpg  1563121747_-00840.jpg  1564868979_-00240.jpg\n",
            "1529000780_-00180.jpg  1563121807_-00780.jpg  1564869039_-00180.jpg\n",
            "1529000840_-00120.jpg  1563121867_-00720.jpg  1564869099_-00120.jpg\n",
            "1529000900_-00060.jpg  1563121927_-00660.jpg  1564869159_-00060.jpg\n",
            "1529000960_+00000.jpg  1563121987_-00600.jpg  1564869219_+00000.jpg\n",
            "1529018305_-02400.jpg  1563122047_-00540.jpg  1565728842_-02400.jpg\n",
            "1529018365_-02340.jpg  1563122107_-00480.jpg  1565728902_-02340.jpg\n",
            "1529018425_-02280.jpg  1563122167_-00420.jpg  1565728962_-02280.jpg\n",
            "1529018485_-02220.jpg  1563122227_-00360.jpg  1565729022_-02220.jpg\n",
            "1529018545_-02160.jpg  1563122287_-00300.jpg  1565729082_-02160.jpg\n",
            "1529018605_-02100.jpg  1563122347_-00240.jpg  1565729142_-02100.jpg\n",
            "1529019085_-01620.jpg  1563122407_-00180.jpg  1565729204_-02038.jpg\n",
            "1529019145_-01560.jpg  1563122467_-00120.jpg  1565729262_-01980.jpg\n",
            "1529019205_-01500.jpg  1563122527_-00060.jpg  1565729323_-01919.jpg\n",
            "1529019265_-01440.jpg  1563122587_+00000.jpg  1565729382_-01860.jpg\n",
            "1529019325_-01380.jpg  1563122647_+00060.jpg  1565729442_-01800.jpg\n",
            "1529019385_-01320.jpg  1563132623_-02400.jpg  1565729502_-01740.jpg\n",
            "1529019445_-01260.jpg  1563132683_-02340.jpg  1565729742_-01500.jpg\n",
            "1529019505_-01200.jpg  1563132743_-02280.jpg  1565729802_-01440.jpg\n",
            "1529019565_-01140.jpg  1563132803_-02220.jpg  1565729862_-01380.jpg\n",
            "1529019625_-01080.jpg  1563132863_-02160.jpg  1565729922_-01320.jpg\n",
            "1529019865_-00840.jpg  1563132923_-02100.jpg  1565729982_-01260.jpg\n",
            "1529019925_-00780.jpg  1563132983_-02040.jpg  1565730042_-01200.jpg\n",
            "1529019985_-00720.jpg  1563133043_-01980.jpg  1565730102_-01140.jpg\n",
            "1529020045_-00660.jpg  1563133103_-01920.jpg  1565730163_-01079.jpg\n",
            "1529020105_-00600.jpg  1563133163_-01860.jpg  1565730222_-01020.jpg\n",
            "1529020165_-00540.jpg  1563133463_-01560.jpg  1565730282_-00960.jpg\n",
            "1529020225_-00480.jpg  1563133523_-01500.jpg  1565730342_-00900.jpg\n",
            "1529020285_-00420.jpg  1563133823_-01200.jpg  1565730402_-00840.jpg\n",
            "1529020345_-00360.jpg  1563133883_-01140.jpg  1565730642_-00600.jpg\n",
            "1529020585_-00120.jpg  1563133943_-01080.jpg  1565730702_-00540.jpg\n",
            "1529020645_-00060.jpg  1563134003_-01020.jpg  1565730762_-00480.jpg\n",
            "1529020705_+00000.jpg  1563134063_-00960.jpg  1565730822_-00420.jpg\n",
            "1529020765_+00060.jpg  1563134123_-00900.jpg  1565730882_-00360.jpg\n",
            "1529020825_+00120.jpg  1563134183_-00840.jpg  1565730942_-00300.jpg\n",
            "1530737845_-01200.jpg  1563134243_-00780.jpg  1565731002_-00240.jpg\n",
            "1530737905_-01140.jpg  1563134303_-00720.jpg  1565731062_-00180.jpg\n",
            "1530738145_-00900.jpg  1563134363_-00660.jpg  1565731122_-00120.jpg\n",
            "1530738205_-00840.jpg  1563134423_-00600.jpg  1565731182_-00060.jpg\n",
            "1530738265_-00780.jpg  1563134483_-00540.jpg  1565731242_+00000.jpg\n",
            "1530738325_-00720.jpg  1563134543_-00480.jpg\n"
          ],
          "name": "stdout"
        }
      ]
    },
    {
      "cell_type": "code",
      "metadata": {
        "id": "rwHYXA7iFk3P",
        "colab_type": "code",
        "colab": {}
      },
      "source": [
        ""
      ],
      "execution_count": 0,
      "outputs": []
    }
  ]
}